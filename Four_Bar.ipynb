{
  "cells": [
    {
      "cell_type": "markdown",
      "metadata": {},
      "source": [
        "[![Open In Colab](https://colab.research.google.com/assets/colab-badge.svg)](https://colab.research.google.com/drive/1G9kuChta83-Yg5AWjduErTMfVdmn-Rqj?usp=sharing)"
      ]
    },
    {
      "cell_type": "markdown",
      "metadata": {
        "id": "eGFMNWIOrrpX"
      },
      "source": [
        "# Four-Bar Mechanism\n",
        "In this project, we first build an Onshape model of a simple four-bar mechanism in [this document](https://cad.onshape.com/documents/178816b0fa7fb384c9ef431c/w/e3249365341e3ffa779dd405/e/107add88e77a45e80ad1350f). The four linkages are named ground, input, output, and floating, respectively. As a common introduction to kinematics analysis in mechanical engineering, varying the lengths of the four linkages results in different motions for the output linkage, while constant rotational motion is applied to the input linkage. Through making REST API calls to the Onshape document, we can simulate the motion of both the input and output linkages to generate a path plot."
      ]
    },
    {
      "cell_type": "code",
      "execution_count": null,
      "metadata": {
        "cellView": "form",
        "colab": {
          "base_uri": "https://localhost:8080/",
          "height": 90,
          "resources": {
            "http://localhost:8080/nbextensions/google.colab/files.js": {
              "data": "Ly8gQ29weXJpZ2h0IDIwMTcgR29vZ2xlIExMQwovLwovLyBMaWNlbnNlZCB1bmRlciB0aGUgQXBhY2hlIExpY2Vuc2UsIFZlcnNpb24gMi4wICh0aGUgIkxpY2Vuc2UiKTsKLy8geW91IG1heSBub3QgdXNlIHRoaXMgZmlsZSBleGNlcHQgaW4gY29tcGxpYW5jZSB3aXRoIHRoZSBMaWNlbnNlLgovLyBZb3UgbWF5IG9idGFpbiBhIGNvcHkgb2YgdGhlIExpY2Vuc2UgYXQKLy8KLy8gICAgICBodHRwOi8vd3d3LmFwYWNoZS5vcmcvbGljZW5zZXMvTElDRU5TRS0yLjAKLy8KLy8gVW5sZXNzIHJlcXVpcmVkIGJ5IGFwcGxpY2FibGUgbGF3IG9yIGFncmVlZCB0byBpbiB3cml0aW5nLCBzb2Z0d2FyZQovLyBkaXN0cmlidXRlZCB1bmRlciB0aGUgTGljZW5zZSBpcyBkaXN0cmlidXRlZCBvbiBhbiAiQVMgSVMiIEJBU0lTLAovLyBXSVRIT1VUIFdBUlJBTlRJRVMgT1IgQ09ORElUSU9OUyBPRiBBTlkgS0lORCwgZWl0aGVyIGV4cHJlc3Mgb3IgaW1wbGllZC4KLy8gU2VlIHRoZSBMaWNlbnNlIGZvciB0aGUgc3BlY2lmaWMgbGFuZ3VhZ2UgZ292ZXJuaW5nIHBlcm1pc3Npb25zIGFuZAovLyBsaW1pdGF0aW9ucyB1bmRlciB0aGUgTGljZW5zZS4KCi8qKgogKiBAZmlsZW92ZXJ2aWV3IEhlbHBlcnMgZm9yIGdvb2dsZS5jb2xhYiBQeXRob24gbW9kdWxlLgogKi8KKGZ1bmN0aW9uKHNjb3BlKSB7CmZ1bmN0aW9uIHNwYW4odGV4dCwgc3R5bGVBdHRyaWJ1dGVzID0ge30pIHsKICBjb25zdCBlbGVtZW50ID0gZG9jdW1lbnQuY3JlYXRlRWxlbWVudCgnc3BhbicpOwogIGVsZW1lbnQudGV4dENvbnRlbnQgPSB0ZXh0OwogIGZvciAoY29uc3Qga2V5IG9mIE9iamVjdC5rZXlzKHN0eWxlQXR0cmlidXRlcykpIHsKICAgIGVsZW1lbnQuc3R5bGVba2V5XSA9IHN0eWxlQXR0cmlidXRlc1trZXldOwogIH0KICByZXR1cm4gZWxlbWVudDsKfQoKLy8gTWF4IG51bWJlciBvZiBieXRlcyB3aGljaCB3aWxsIGJlIHVwbG9hZGVkIGF0IGEgdGltZS4KY29uc3QgTUFYX1BBWUxPQURfU0laRSA9IDEwMCAqIDEwMjQ7CgpmdW5jdGlvbiBfdXBsb2FkRmlsZXMoaW5wdXRJZCwgb3V0cHV0SWQpIHsKICBjb25zdCBzdGVwcyA9IHVwbG9hZEZpbGVzU3RlcChpbnB1dElkLCBvdXRwdXRJZCk7CiAgY29uc3Qgb3V0cHV0RWxlbWVudCA9IGRvY3VtZW50LmdldEVsZW1lbnRCeUlkKG91dHB1dElkKTsKICAvLyBDYWNoZSBzdGVwcyBvbiB0aGUgb3V0cHV0RWxlbWVudCB0byBtYWtlIGl0IGF2YWlsYWJsZSBmb3IgdGhlIG5leHQgY2FsbAogIC8vIHRvIHVwbG9hZEZpbGVzQ29udGludWUgZnJvbSBQeXRob24uCiAgb3V0cHV0RWxlbWVudC5zdGVwcyA9IHN0ZXBzOwoKICByZXR1cm4gX3VwbG9hZEZpbGVzQ29udGludWUob3V0cHV0SWQpOwp9CgovLyBUaGlzIGlzIHJvdWdobHkgYW4gYXN5bmMgZ2VuZXJhdG9yIChub3Qgc3VwcG9ydGVkIGluIHRoZSBicm93c2VyIHlldCksCi8vIHdoZXJlIHRoZXJlIGFyZSBtdWx0aXBsZSBhc3luY2hyb25vdXMgc3RlcHMgYW5kIHRoZSBQeXRob24gc2lkZSBpcyBnb2luZwovLyB0byBwb2xsIGZvciBjb21wbGV0aW9uIG9mIGVhY2ggc3RlcC4KLy8gVGhpcyB1c2VzIGEgUHJvbWlzZSB0byBibG9jayB0aGUgcHl0aG9uIHNpZGUgb24gY29tcGxldGlvbiBvZiBlYWNoIHN0ZXAsCi8vIHRoZW4gcGFzc2VzIHRoZSByZXN1bHQgb2YgdGhlIHByZXZpb3VzIHN0ZXAgYXMgdGhlIGlucHV0IHRvIHRoZSBuZXh0IHN0ZXAuCmZ1bmN0aW9uIF91cGxvYWRGaWxlc0NvbnRpbnVlKG91dHB1dElkKSB7CiAgY29uc3Qgb3V0cHV0RWxlbWVudCA9IGRvY3VtZW50LmdldEVsZW1lbnRCeUlkKG91dHB1dElkKTsKICBjb25zdCBzdGVwcyA9IG91dHB1dEVsZW1lbnQuc3RlcHM7CgogIGNvbnN0IG5leHQgPSBzdGVwcy5uZXh0KG91dHB1dEVsZW1lbnQubGFzdFByb21pc2VWYWx1ZSk7CiAgcmV0dXJuIFByb21pc2UucmVzb2x2ZShuZXh0LnZhbHVlLnByb21pc2UpLnRoZW4oKHZhbHVlKSA9PiB7CiAgICAvLyBDYWNoZSB0aGUgbGFzdCBwcm9taXNlIHZhbHVlIHRvIG1ha2UgaXQgYXZhaWxhYmxlIHRvIHRoZSBuZXh0CiAgICAvLyBzdGVwIG9mIHRoZSBnZW5lcmF0b3IuCiAgICBvdXRwdXRFbGVtZW50Lmxhc3RQcm9taXNlVmFsdWUgPSB2YWx1ZTsKICAgIHJldHVybiBuZXh0LnZhbHVlLnJlc3BvbnNlOwogIH0pOwp9CgovKioKICogR2VuZXJhdG9yIGZ1bmN0aW9uIHdoaWNoIGlzIGNhbGxlZCBiZXR3ZWVuIGVhY2ggYXN5bmMgc3RlcCBvZiB0aGUgdXBsb2FkCiAqIHByb2Nlc3MuCiAqIEBwYXJhbSB7c3RyaW5nfSBpbnB1dElkIEVsZW1lbnQgSUQgb2YgdGhlIGlucHV0IGZpbGUgcGlja2VyIGVsZW1lbnQuCiAqIEBwYXJhbSB7c3RyaW5nfSBvdXRwdXRJZCBFbGVtZW50IElEIG9mIHRoZSBvdXRwdXQgZGlzcGxheS4KICogQHJldHVybiB7IUl0ZXJhYmxlPCFPYmplY3Q+fSBJdGVyYWJsZSBvZiBuZXh0IHN0ZXBzLgogKi8KZnVuY3Rpb24qIHVwbG9hZEZpbGVzU3RlcChpbnB1dElkLCBvdXRwdXRJZCkgewogIGNvbnN0IGlucHV0RWxlbWVudCA9IGRvY3VtZW50LmdldEVsZW1lbnRCeUlkKGlucHV0SWQpOwogIGlucHV0RWxlbWVudC5kaXNhYmxlZCA9IGZhbHNlOwoKICBjb25zdCBvdXRwdXRFbGVtZW50ID0gZG9jdW1lbnQuZ2V0RWxlbWVudEJ5SWQob3V0cHV0SWQpOwogIG91dHB1dEVsZW1lbnQuaW5uZXJIVE1MID0gJyc7CgogIGNvbnN0IHBpY2tlZFByb21pc2UgPSBuZXcgUHJvbWlzZSgocmVzb2x2ZSkgPT4gewogICAgaW5wdXRFbGVtZW50LmFkZEV2ZW50TGlzdGVuZXIoJ2NoYW5nZScsIChlKSA9PiB7CiAgICAgIHJlc29sdmUoZS50YXJnZXQuZmlsZXMpOwogICAgfSk7CiAgfSk7CgogIGNvbnN0IGNhbmNlbCA9IGRvY3VtZW50LmNyZWF0ZUVsZW1lbnQoJ2J1dHRvbicpOwogIGlucHV0RWxlbWVudC5wYXJlbnRFbGVtZW50LmFwcGVuZENoaWxkKGNhbmNlbCk7CiAgY2FuY2VsLnRleHRDb250ZW50ID0gJ0NhbmNlbCB1cGxvYWQnOwogIGNvbnN0IGNhbmNlbFByb21pc2UgPSBuZXcgUHJvbWlzZSgocmVzb2x2ZSkgPT4gewogICAgY2FuY2VsLm9uY2xpY2sgPSAoKSA9PiB7CiAgICAgIHJlc29sdmUobnVsbCk7CiAgICB9OwogIH0pOwoKICAvLyBXYWl0IGZvciB0aGUgdXNlciB0byBwaWNrIHRoZSBmaWxlcy4KICBjb25zdCBmaWxlcyA9IHlpZWxkIHsKICAgIHByb21pc2U6IFByb21pc2UucmFjZShbcGlja2VkUHJvbWlzZSwgY2FuY2VsUHJvbWlzZV0pLAogICAgcmVzcG9uc2U6IHsKICAgICAgYWN0aW9uOiAnc3RhcnRpbmcnLAogICAgfQogIH07CgogIGNhbmNlbC5yZW1vdmUoKTsKCiAgLy8gRGlzYWJsZSB0aGUgaW5wdXQgZWxlbWVudCBzaW5jZSBmdXJ0aGVyIHBpY2tzIGFyZSBub3QgYWxsb3dlZC4KICBpbnB1dEVsZW1lbnQuZGlzYWJsZWQgPSB0cnVlOwoKICBpZiAoIWZpbGVzKSB7CiAgICByZXR1cm4gewogICAgICByZXNwb25zZTogewogICAgICAgIGFjdGlvbjogJ2NvbXBsZXRlJywKICAgICAgfQogICAgfTsKICB9CgogIGZvciAoY29uc3QgZmlsZSBvZiBmaWxlcykgewogICAgY29uc3QgbGkgPSBkb2N1bWVudC5jcmVhdGVFbGVtZW50KCdsaScpOwogICAgbGkuYXBwZW5kKHNwYW4oZmlsZS5uYW1lLCB7Zm9udFdlaWdodDogJ2JvbGQnfSkpOwogICAgbGkuYXBwZW5kKHNwYW4oCiAgICAgICAgYCgke2ZpbGUudHlwZSB8fCAnbi9hJ30pIC0gJHtmaWxlLnNpemV9IGJ5dGVzLCBgICsKICAgICAgICBgbGFzdCBtb2RpZmllZDogJHsKICAgICAgICAgICAgZmlsZS5sYXN0TW9kaWZpZWREYXRlID8gZmlsZS5sYXN0TW9kaWZpZWREYXRlLnRvTG9jYWxlRGF0ZVN0cmluZygpIDoKICAgICAgICAgICAgICAgICAgICAgICAgICAgICAgICAgICAgJ24vYSd9IC0gYCkpOwogICAgY29uc3QgcGVyY2VudCA9IHNwYW4oJzAlIGRvbmUnKTsKICAgIGxpLmFwcGVuZENoaWxkKHBlcmNlbnQpOwoKICAgIG91dHB1dEVsZW1lbnQuYXBwZW5kQ2hpbGQobGkpOwoKICAgIGNvbnN0IGZpbGVEYXRhUHJvbWlzZSA9IG5ldyBQcm9taXNlKChyZXNvbHZlKSA9PiB7CiAgICAgIGNvbnN0IHJlYWRlciA9IG5ldyBGaWxlUmVhZGVyKCk7CiAgICAgIHJlYWRlci5vbmxvYWQgPSAoZSkgPT4gewogICAgICAgIHJlc29sdmUoZS50YXJnZXQucmVzdWx0KTsKICAgICAgfTsKICAgICAgcmVhZGVyLnJlYWRBc0FycmF5QnVmZmVyKGZpbGUpOwogICAgfSk7CiAgICAvLyBXYWl0IGZvciB0aGUgZGF0YSB0byBiZSByZWFkeS4KICAgIGxldCBmaWxlRGF0YSA9IHlpZWxkIHsKICAgICAgcHJvbWlzZTogZmlsZURhdGFQcm9taXNlLAogICAgICByZXNwb25zZTogewogICAgICAgIGFjdGlvbjogJ2NvbnRpbnVlJywKICAgICAgfQogICAgfTsKCiAgICAvLyBVc2UgYSBjaHVua2VkIHNlbmRpbmcgdG8gYXZvaWQgbWVzc2FnZSBzaXplIGxpbWl0cy4gU2VlIGIvNjIxMTU2NjAuCiAgICBsZXQgcG9zaXRpb24gPSAwOwogICAgZG8gewogICAgICBjb25zdCBsZW5ndGggPSBNYXRoLm1pbihmaWxlRGF0YS5ieXRlTGVuZ3RoIC0gcG9zaXRpb24sIE1BWF9QQVlMT0FEX1NJWkUpOwogICAgICBjb25zdCBjaHVuayA9IG5ldyBVaW50OEFycmF5KGZpbGVEYXRhLCBwb3NpdGlvbiwgbGVuZ3RoKTsKICAgICAgcG9zaXRpb24gKz0gbGVuZ3RoOwoKICAgICAgY29uc3QgYmFzZTY0ID0gYnRvYShTdHJpbmcuZnJvbUNoYXJDb2RlLmFwcGx5KG51bGwsIGNodW5rKSk7CiAgICAgIHlpZWxkIHsKICAgICAgICByZXNwb25zZTogewogICAgICAgICAgYWN0aW9uOiAnYXBwZW5kJywKICAgICAgICAgIGZpbGU6IGZpbGUubmFtZSwKICAgICAgICAgIGRhdGE6IGJhc2U2NCwKICAgICAgICB9LAogICAgICB9OwoKICAgICAgbGV0IHBlcmNlbnREb25lID0gZmlsZURhdGEuYnl0ZUxlbmd0aCA9PT0gMCA/CiAgICAgICAgICAxMDAgOgogICAgICAgICAgTWF0aC5yb3VuZCgocG9zaXRpb24gLyBmaWxlRGF0YS5ieXRlTGVuZ3RoKSAqIDEwMCk7CiAgICAgIHBlcmNlbnQudGV4dENvbnRlbnQgPSBgJHtwZXJjZW50RG9uZX0lIGRvbmVgOwoKICAgIH0gd2hpbGUgKHBvc2l0aW9uIDwgZmlsZURhdGEuYnl0ZUxlbmd0aCk7CiAgfQoKICAvLyBBbGwgZG9uZS4KICB5aWVsZCB7CiAgICByZXNwb25zZTogewogICAgICBhY3Rpb246ICdjb21wbGV0ZScsCiAgICB9CiAgfTsKfQoKc2NvcGUuZ29vZ2xlID0gc2NvcGUuZ29vZ2xlIHx8IHt9OwpzY29wZS5nb29nbGUuY29sYWIgPSBzY29wZS5nb29nbGUuY29sYWIgfHwge307CnNjb3BlLmdvb2dsZS5jb2xhYi5fZmlsZXMgPSB7CiAgX3VwbG9hZEZpbGVzLAogIF91cGxvYWRGaWxlc0NvbnRpbnVlLAp9Owp9KShzZWxmKTsK",
              "headers": [
                [
                  "content-type",
                  "application/javascript"
                ]
              ],
              "ok": true,
              "status": 200,
              "status_text": ""
            }
          }
        },
        "id": "WIJVqnwkOcNB",
        "outputId": "137bab64-e481-48d1-a6b1-9bb13c4904ae"
      },
      "outputs": [
        {
          "name": "stdout",
          "output_type": "stream",
          "text": [
            "Onshape client configured - ready to go!\n"
          ]
        }
      ],
      "source": [
        "#@title Import and Setup Onshape Client\n",
        "\n",
        "!pip install onshape-client\n",
        "from onshape_client.client import Client\n",
        "from onshape_client.onshape_url import OnshapeElement\n",
        "import json\n",
        "\n",
        "#@markdown Chage the base if using an enterprise (i.e. \"https://ptc.onshape.com\")\n",
        "base = 'https://cad.onshape.com' #@param {type:\"string\"}\n",
        "\n",
        "#@markdown Would you like to import your API keys from a file, or copy and paste them directly?\n",
        "keyImportOption = \"Upload Keys from File\" #@param [\"Upload Keys from File\", \"Copy/Paste Keys\"]\n",
        "\n",
        "from IPython.display import clear_output \n",
        "clear_output()\n",
        "print(\"Onshape Client successfully imported!\")\n",
        "\n",
        "if keyImportOption == \"Upload Keys from File\":\n",
        "  from google.colab import files\n",
        "  uploaded = files.upload()\n",
        "  for fn in uploaded.keys():\n",
        "    execfile(fn)\n",
        "\n",
        "  client = Client(configuration={\"base_url\": base,\n",
        "                                \"access_key\": access,\n",
        "                                \"secret_key\": secret})\n",
        "  clear_output()\n",
        "  print('Onshape client configured - ready to go!')\n",
        "else:\n",
        "  access = input(\"Paste your Onshape Access Key: \")\n",
        "  secret = input(\"Paste your Onshape Secret Key: \")\n",
        "  client = Client(configuration={\"base_url\": base,\n",
        "                                \"access_key\": access,\n",
        "                                \"secret_key\": secret})\n",
        "  clear_output()\n",
        "  print('Onshape client configured - ready to go!')\n"
      ]
    },
    {
      "cell_type": "markdown",
      "metadata": {
        "id": "FXtCUp-txMlu"
      },
      "source": [
        "# Testing Out the Components"
      ]
    },
    {
      "cell_type": "code",
      "execution_count": null,
      "metadata": {
        "cellView": "form",
        "colab": {
          "base_uri": "https://localhost:8080/"
        },
        "id": "FaZzOZrYQKr2",
        "outputId": "c5262445-85ac-4a14-df40-4895b3d0afd3"
      },
      "outputs": [
        {
          "name": "stdout",
          "output_type": "stream",
          "text": [
            "Part named Floating <1> has id MNWQfqrVC05WHKYbh\n",
            "Part named Ground <1> has id MH0M+UNhQOh7RSwCy\n",
            "Part named Input <1> has id MDvG2pH15Y8xzO/7p\n",
            "Part named Output <1> has id Muc4HLuNq7SMwWeP9\n",
            "Part named Pin <1> has id MyLbevSULLFTNlF1t\n",
            "Part named Pin <2> has id MoU7QyyqWRpFwKGr/\n",
            "Part named Pin <3> has id MoH8UrjsRsuPW0Yrs\n",
            "Part named Pin <4> has id MfKnKOz47lU6KDvP2\n",
            "Part named Position Tracker <1> has id MrKVHwm/CqMOEFTa7\n",
            "Part named Position Tracker <2> has id M7jknQrPGALQtDQ4j\n"
          ]
        }
      ],
      "source": [
        "#@title 1. Get Assembly Definition\n",
        "#@markdown Function `getAssemblyDefinition(url: str)` returns JSON of all parts in a document. The URL can be any element from the document.\n",
        "\n",
        "#@markdown From the output of this code snippet, we retrieve the partID of all the parts in the assembly\n",
        "url = 'https://cad.onshape.com/documents/178816b0fa7fb384c9ef431c/w/e3249365341e3ffa779dd405/e/107add88e77a45e80ad1350f' #@param {type:\"string\"}\n",
        "showResponse = False#@param {type:\"boolean\"}\n",
        "listParts = True#@param {type:\"boolean\"}\n",
        "def getAssemblyDefinition(url: str):\n",
        "  fixed_url = '/api/assemblies/d/did/w/wid/e/eid'\n",
        "\n",
        "  element = OnshapeElement(url)\n",
        "  fixed_url = fixed_url.replace('did', element.did)\n",
        "  fixed_url = fixed_url.replace('wid', element.wvmid)\n",
        "  fixed_url = fixed_url.replace('eid', element.eid)\n",
        "\n",
        "  method = 'GET'\n",
        "\n",
        "  params = {}\n",
        "  payload = {}\n",
        "  headers = {'Accept': 'application/vnd.onshape.v1+json; charset=UTF-8;qs=0.1',\n",
        "            'Content-Type': 'application/json'}\n",
        "\n",
        "  response = client.api_client.request(method, url=base + fixed_url, query_params=params, headers=headers, body=payload)\n",
        "\n",
        "  parsed = json.loads(response.data)\n",
        "  return parsed\n",
        "\n",
        "assemblyDefinitionResponse = getAssemblyDefinition(url)\n",
        "\n",
        "if showResponse:\n",
        "  print(json.dumps(assemblyDefinitionResponse, indent=4, sort_keys=True))\n",
        "if listParts:\n",
        "  for instance in assemblyDefinitionResponse['rootAssembly']['instances']:\n",
        "    name = instance['name']\n",
        "    id = instance['id']\n",
        "    print(f'Part named {name} has id {id}')\n",
        "else:\n",
        "  pass"
      ]
    },
    {
      "cell_type": "markdown",
      "metadata": {
        "id": "ScN_DHc3Yy3Y"
      },
      "source": [
        "## 2. Turn the input of the four-bar mechanism"
      ]
    },
    {
      "cell_type": "code",
      "execution_count": null,
      "metadata": {
        "cellView": "form",
        "id": "1y8udW0ggrU4"
      },
      "outputs": [],
      "source": [
        "#@title Run this cell to load matrix helper functions\n",
        "\n",
        "import math\n",
        "import numpy\n",
        "\n",
        "def IdentitySixteen():\n",
        "  m = [\n",
        "      1, 0, 0, 0,\n",
        "      0, 1, 0, 0,\n",
        "      0, 0, 1, 0,\n",
        "      0, 0, 0, 1\n",
        "      ]\n",
        "  return m\n",
        "\n",
        "def DiceTransform(value):\n",
        "    switcher = {\n",
        "        0: [\n",
        "            0, 0, 1, 0,\n",
        "            0, 1, 0, 0,\n",
        "            -1, 0, 0, 0,\n",
        "            0, 0, 0, 1\n",
        "           ],\n",
        "        1: [\n",
        "            0, 0, 1, 0,\n",
        "            0, 1, 0, 0,\n",
        "            -1, 0, 0, 0,\n",
        "            0, 0, 0, 1\n",
        "           ],\n",
        "        2: [\n",
        "            1, 0, 0, 0,\n",
        "            0, 0, 1, 0,\n",
        "            0, -1, 0, 0,\n",
        "            0, 0, 0, 1\n",
        "           ],\n",
        "        3: [\n",
        "            1, 0, 0, 0,\n",
        "            0, -1, 0, 0,\n",
        "            0, 0, -1, 0,\n",
        "            0, 0, 0, 1\n",
        "           ],\n",
        "        4: [\n",
        "            1, 0, 0, 0,\n",
        "            0, 1, 0, 0,\n",
        "            0, 0, 1, 0,\n",
        "            0, 0, 0, 1\n",
        "           ],\n",
        "        5: [\n",
        "            1, 0, 0, 0,\n",
        "            0, 0, -1, 0,\n",
        "            0, 1, 0, 0,\n",
        "            0, 0, 0, 1\n",
        "           ],\n",
        "        6: [\n",
        "            0, 0, -1, 0,\n",
        "            0, 1, 0, 0,\n",
        "            1, 0, 0, 0,\n",
        "            0, 0, 0, 1\n",
        "           ] \n",
        "    }\n",
        "  \n",
        "    # get() method of dictionary data type returns \n",
        "    # value of passed argument if it is present \n",
        "    # in dictionary otherwise second argument will\n",
        "    # be assigned as default value of passed argument\n",
        "    return switcher.get(value, \"nothing\")\n",
        "\n",
        "def DiceMove(value,x1,y1):\n",
        "  matrix = DiceTransform(value)\n",
        "  matrix[3] = x1\n",
        "  matrix[7] = y1\n",
        "  return matrix\n",
        "\n",
        "def DiceFollow(diceMatrix,tcpMatrix):\n",
        "  diceMatrix[3] = tcpMatrix[3]\n",
        "  diceMatrix[7] = tcpMatrix[7]\n",
        "  diceMatrix[11] = tcpMatrix[11]\n",
        "  return diceMatrix\n",
        "  \n",
        "def sixteenToFourByFour(matrix):\n",
        "  fourbyfour = [[matrix[0],matrix[1],matrix[2],matrix[3]],\n",
        "                [matrix[4],matrix[5],matrix[6],matrix[7]],\n",
        "                [matrix[8],matrix[9],matrix[10],matrix[11]],\n",
        "                [matrix[12],matrix[13],matrix[14],matrix[15]]]\n",
        "  return fourbyfour\n",
        "\n",
        "def fourByFourToSixteen(matrix):\n",
        "  sixteen = [matrix[0][0],matrix[0][1],matrix[0][2],matrix[0][3],\n",
        "             matrix[1][0],matrix[1][1],matrix[1][2],matrix[1][3],\n",
        "             matrix[2][0],matrix[2][1],matrix[2][2],matrix[2][3],\n",
        "             matrix[3][0],matrix[3][1],matrix[3][2],matrix[3][3]]\n",
        "  return sixteen\n",
        "\n",
        "def clockwiseSpinX(theta):\n",
        "  m = [[1, 0, 0, 0],\n",
        "       [0, math.cos(theta), math.sin(theta), 0],\n",
        "       [0, -math.sin(theta), math.cos(theta), 0],\n",
        "       [0, 0, 0, 1]\n",
        "       ]\n",
        "  return m\n",
        "\n",
        "def clockwiseSpinY(theta):\n",
        "  m = [[math.cos(theta), 0, math.sin(theta), 0],\n",
        "       [0, 1, 0, 0],\n",
        "       [-math.sin(theta), 0, math.cos(theta), 0],\n",
        "       [0, 0, 0, 1]\n",
        "       ]\n",
        "  return m\n",
        "\n",
        "def clockwiseSpinZ(theta):\n",
        "  m = [[math.cos(theta), math.sin(theta), 0, 0],\n",
        "       [-math.sin(theta), math.cos(theta), 0, 0],\n",
        "       [0, 0, 1, 0],\n",
        "       [0, 0, 0, 1]]\n",
        "  return m\n"
      ]
    },
    {
      "cell_type": "code",
      "execution_count": null,
      "metadata": {
        "cellView": "form",
        "colab": {
          "base_uri": "https://localhost:8080/"
        },
        "id": "BEbj9LtMgrU6",
        "outputId": "db877ce8-92be-4028-c38c-a5eca768071e"
      },
      "outputs": [
        {
          "name": "stdout",
          "output_type": "stream",
          "text": [
            "Transformation matrix:\n",
            "[6.123234e-17 1.000000e+00 0.000000e+00 0.000000e+00]\n",
            "[-1.000000e+00  6.123234e-17  0.000000e+00  0.000000e+00]\n",
            "[0. 0. 1. 0.]\n",
            "[0. 0. 0. 1.]\n"
          ]
        }
      ],
      "source": [
        "#@title Transformation Matrix\n",
        "#@markdown Move the part with specified id. (Use getAssemblyDefinition function to get part IDs)\n",
        "url = 'https://cad.onshape.com/documents/178816b0fa7fb384c9ef431c/w/e3249365341e3ffa779dd405/e/107add88e77a45e80ad1350f' #@param {type:\"string\"}\n",
        "partIdToMove = 'MDvG2pH15Y8xzO/7p'#@param {type:'string'}\n",
        "isRelative = True#@param {type:'boolean'}\n",
        "#@markdown Translate object to x1,y1,z1 (if isRelative is False) or by x1,y1,z1 in the x,y,z directions (if isRelative is True)\n",
        "x1 = 0#@param\n",
        "y1 = 0#@param\n",
        "z1 = 0#@param\n",
        "#@markdown Specify rotations (in radians) about the X and Z axis\n",
        "clockwiseRotationX = 0#@param\n",
        "clockwiseRotationZ = math.pi/2#@param\n",
        "\n",
        "occurrences = getAssemblyDefinition(url)['rootAssembly']['occurrences']\n",
        "\n",
        "for x in occurrences:\n",
        "    if x['path'][0] == partIdToMove:\n",
        "      occurrence = x\n",
        "\n",
        "## Reset the transformation matrix\n",
        "occurrence['transform'] = IdentitySixteen()\n",
        "occurrence['transform'][3] = x1\n",
        "occurrence['transform'][7] = y1\n",
        "occurrence['transform'][11] = z1\n",
        "\n",
        "## Put translation first, rotation second to rotate about global coordinate system first\n",
        "rotMat = numpy.matmul(clockwiseSpinX(clockwiseRotationX),clockwiseSpinZ(clockwiseRotationZ))\n",
        "transformMat = numpy.matmul(sixteenToFourByFour(occurrence['transform']),rotMat)\n",
        "print(\"Transformation matrix:\")\n",
        "for x in transformMat:\n",
        "  print(x)\n",
        "\n",
        "## Send assembly occurence transforms\n",
        "fixed_url = '/api/assemblies/d/did/w/wid/e/eid/occurrencetransforms'\n",
        "\n",
        "element = OnshapeElement(url)\n",
        "fixed_url = fixed_url.replace('did', element.did)\n",
        "fixed_url = fixed_url.replace('wid', element.wvmid)\n",
        "fixed_url = fixed_url.replace('eid', element.eid)\n",
        "\n",
        "method = 'POST'\n",
        "\n",
        "params = {}\n",
        "payload = {'isRelative':isRelative,\n",
        "           'occurrences':[occurrence],\n",
        "           'transform':fourByFourToSixteen(transformMat)\n",
        "    }\n",
        "\n",
        "headers = {'Accept': 'application/vnd.onshape.v1+json; charset=UTF-8;qs=0.1',\n",
        "           'Content-Type': 'application/json'}\n",
        "\n",
        "response = client.api_client.request(method, url=base + fixed_url, query_params=params, headers=headers, body=payload)\n"
      ]
    },
    {
      "cell_type": "markdown",
      "metadata": {
        "id": "uYHjjswKYtWA"
      },
      "source": [
        "## 3. Trying to get the locations of the input and output"
      ]
    },
    {
      "cell_type": "code",
      "execution_count": null,
      "metadata": {
        "cellView": "form",
        "colab": {
          "base_uri": "https://localhost:8080/"
        },
        "id": "meRUn3QphJT-",
        "outputId": "b9f01d5d-29cb-4cd9-d430-24e2e62babd5"
      },
      "outputs": [
        {
          "name": "stdout",
          "output_type": "stream",
          "text": [
            "X Pos: -0.11456819223501996\n",
            "Y Pos: 0.16393330756134578\n"
          ]
        }
      ],
      "source": [
        "#@title Get info from the transform matrix of the part\n",
        "#@markdown In the Onshape model, we made two position trackers (small cylinders). Locating the two trackers gives the positions of the two endpoints of the input and output linkages.\n",
        "url = 'https://cad.onshape.com/documents/178816b0fa7fb384c9ef431c/w/e3249365341e3ffa779dd405/e/107add88e77a45e80ad1350f' #@param{'type': 'string'}\n",
        "partId = 'MrKVHwm/CqMOEFTa7' #@param{'type': 'string'}\n",
        "\n",
        "method = \"GET\"\n",
        "headers = {'Accept': 'application/vnd.onshape.v2+json;charset=UTF-8;qs=0.2',\n",
        "           'Content-Type': 'application/json'}\n",
        "params = {}\n",
        "payload = {} \n",
        "\n",
        "fixed_url = '/api/assemblies/d/did/w/wid/e/eid'\n",
        "element = OnshapeElement(url)\n",
        "fixed_url = fixed_url.replace('did', element.did)\n",
        "fixed_url = fixed_url.replace('wid', element.wvmid)\n",
        "fixed_url = fixed_url.replace('eid', element.eid)\n",
        "\n",
        "response = client.api_client.request(method=method, url=base + fixed_url, query_params=params, headers=headers, body=payload)\n",
        "parsed  = json.loads(response.data)\n",
        "\n",
        "for occ in parsed['rootAssembly']['occurrences']: \n",
        "    if occ['path'][0] == partId: \n",
        "        # print(json.dumps(occ, indent=4))\n",
        "        print(\"X Pos:\", occ['transform'][3])\n",
        "        print(\"Y Pos:\", occ['transform'][7])\n"
      ]
    },
    {
      "cell_type": "markdown",
      "metadata": {
        "id": "wE9wQlc2xFm2"
      },
      "source": [
        "# Putting Everything Together"
      ]
    },
    {
      "cell_type": "code",
      "execution_count": null,
      "metadata": {
        "colab": {
          "base_uri": "https://localhost:8080/",
          "height": 297
        },
        "id": "1i6osHOgxE-H",
        "outputId": "a90d539a-50f4-4cde-8a1a-07eebeb9b20f"
      },
      "outputs": [
        {
          "data": {
            "image/png": "[encoded data removed]",
            "text/plain": [
              "<Figure size 432x288 with 1 Axes>"
            ]
          },
          "metadata": {
            "needs_background": "light"
          },
          "output_type": "display_data"
        }
      ],
      "source": [
        "import numpy as np \n",
        "import matplotlib.pyplot as plt\n",
        "\n",
        "def getAssemblyDefinition(url: str):\n",
        "  fixed_url = '/api/assemblies/d/did/w/wid/e/eid'\n",
        "  element = OnshapeElement(url)\n",
        "  base = element.base_url\n",
        "  fixed_url = fixed_url.replace('did', element.did)\n",
        "  fixed_url = fixed_url.replace('wid', element.wvmid)\n",
        "  fixed_url = fixed_url.replace('eid', element.eid)\n",
        "\n",
        "  method = 'GET'\n",
        "  params = {}\n",
        "  payload = {}\n",
        "  headers = {'Accept': 'application/vnd.onshape.v1+json; charset=UTF-8;qs=0.1',\n",
        "            'Content-Type': 'application/json'}\n",
        "\n",
        "  response = client.api_client.request(method, url=base + fixed_url, query_params=params, headers=headers, body=payload)\n",
        "  parsed = json.loads(response.data)\n",
        "  return parsed\n",
        "\n",
        "\n",
        "def clockwiseSpinZ(theta):\n",
        "    m = [[np.cos(theta), np.sin(theta), 0, 0],\n",
        "        [-np.sin(theta), np.cos(theta), 0, 0],\n",
        "        [0, 0, 1, 0],\n",
        "        [0, 0, 0, 1]]\n",
        "    return m\n",
        "\n",
        "\n",
        "def rotate_input(url, assembly, partId: str, rotation: float): \n",
        "    identity_matrix = [1, 0, 0, 0, \n",
        "                       0, 1, 0, 0,\n",
        "                       0, 0, 1, 0,\n",
        "                       0, 0, 0, 1]\n",
        "    identity_matrix = np.reshape(identity_matrix, (4,4))\n",
        "    occurrences = assembly['rootAssembly']['occurrences']\n",
        "    occurrence = None\n",
        "    for x in occurrences:\n",
        "        if x['path'][0] == partId:\n",
        "            occurrence = x\n",
        "    if not occurrence: \n",
        "        print(\"Part not found!\")\n",
        "        return None\n",
        "    \n",
        "    rotMat = np.matmul(identity_matrix,clockwiseSpinZ(rotation))\n",
        "    transformMat = np.matmul(identity_matrix,rotMat)\n",
        "\n",
        "    fixed_url = '/api/assemblies/d/did/w/wid/e/eid/occurrencetransforms'\n",
        "    element = OnshapeElement(url)\n",
        "    base = element.base_url\n",
        "    fixed_url = fixed_url.replace('did', element.did)\n",
        "    fixed_url = fixed_url.replace('wid', element.wvmid)\n",
        "    fixed_url = fixed_url.replace('eid', element.eid)\n",
        "\n",
        "    method = 'POST'\n",
        "    params = {}\n",
        "    payload = {'isRelative': True,\n",
        "               'occurrences': [occurrence],\n",
        "               'transform': list(np.reshape(transformMat, -1))}\n",
        "    headers = {'Accept': 'application/vnd.onshape.v1+json; charset=UTF-8;qs=0.1',\n",
        "               'Content-Type': 'application/json'}\n",
        "\n",
        "    response = client.api_client.request(method, url=base + fixed_url, \n",
        "                                         query_params=params, headers=headers, \n",
        "                                         body=payload)\n",
        "\n",
        "\n",
        "def get_position(assembly, partId: str): \n",
        "    \"\"\"\n",
        "    This function parses through all the parts within the assembly \n",
        "    and returns the x and y positions of the position trackers specified \n",
        "    with the partId. \n",
        "    \"\"\"\n",
        "    for occ in assembly['rootAssembly']['occurrences']: \n",
        "        if occ['path'][0] == partId: \n",
        "            return occ['transform'][3], occ['transform'][7]\n",
        "    print(\"Part not found!\") \n",
        "    return None \n",
        "\n",
        "\n",
        "input_x_pos = [] \n",
        "input_y_pos = [] \n",
        "output_x_pos = [] \n",
        "output_y_pos = [] \n",
        "\n",
        "rotation_step = np.pi/18  # in radian \n",
        "# Change URL if needed \n",
        "URL = 'https://cad.onshape.com/documents/178816b0fa7fb384c9ef431c/w/e3249365341e3ffa779dd405/e/107add88e77a45e80ad1350f'\n",
        "\n",
        "assembly_info = getAssemblyDefinition(URL)\n",
        "in_pos = get_position(assembly_info, 'MrKVHwm/CqMOEFTa7')  # Change ID if needed\n",
        "out_pos = get_position(assembly_info, 'M7jknQrPGALQtDQ4j') # Change ID if needed\n",
        "if in_pos and out_pos: \n",
        "    input_x_pos.append(in_pos[0])\n",
        "    input_y_pos.append(in_pos[1])\n",
        "    output_x_pos.append(out_pos[0])\n",
        "    output_y_pos.append(out_pos[1])\n",
        "    for i in range(int(np.pi * 2 / rotation_step)): \n",
        "        # Rotate the input by rotation_step \n",
        "        rotate_input(URL, assembly_info, 'MrKVHwm/CqMOEFTa7', rotation_step)\n",
        "        # Get the x-y position of the input and output position trackers \n",
        "        assembly_info = getAssemblyDefinition(URL)\n",
        "        in_pos = get_position(assembly_info, 'MrKVHwm/CqMOEFTa7') \n",
        "        out_pos = get_position(assembly_info, 'M7jknQrPGALQtDQ4j') \n",
        "        input_x_pos.append(in_pos[0])\n",
        "        input_y_pos.append(in_pos[1])\n",
        "        output_x_pos.append(out_pos[0])\n",
        "        output_y_pos.append(out_pos[1])\n",
        "\n",
        "# Plot the path \n",
        "fig, ax = plt.subplots()\n",
        "ax.plot(input_x_pos, input_y_pos, label='Input')\n",
        "ax.plot(output_x_pos, output_y_pos, label='Output')\n",
        "\n",
        "plt.legend()\n",
        "plt.tight_layout()\n",
        "plt.show()"
      ]
    }
  ],
  "metadata": {
    "colab": {
      "collapsed_sections": [],
      "name": "Four Bar.ipynb",
      "provenance": []
    },
    "kernelspec": {
      "display_name": "Python 3",
      "name": "python3"
    },
    "language_info": {
      "name": "python"
    }
  },
  "nbformat": 4,
  "nbformat_minor": 0
}
